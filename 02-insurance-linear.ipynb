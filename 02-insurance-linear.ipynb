{
 "cells": [
  {
   "cell_type": "markdown",
   "metadata": {
    "_cell_guid": "b1076dfc-b9ad-4769-8c92-a6c4dae69d19",
    "_uuid": "8f2839f25d086af736a60e9eeb907d3b93b6e0e5",
    "id": "k5b0GtZutY4Y"
   },
   "source": [
    "# Insurance cost prediction using linear regression\n",
    "\n",
    "\n",
    "In this assignment we're going to use information like a person's age, sex, BMI, no. of children and smoking habit to predict the price of yearly medical bills. This kind of model is useful for insurance companies to determine the yearly insurance premium for a person. The dataset for this problem is taken from [Kaggle](https://www.kaggle.com/mirichoi0218/insurance).\n",
    "\n",
    "\n",
    "We will create a model with the following steps:\n",
    "1. Download and explore the dataset\n",
    "2. Prepare the dataset for training\n",
    "3. Create a linear regression model\n",
    "4. Train the model to fit the data\n",
    "5. Make predictions using the trained model\n",
    "\n",
    "\n",
    "This assignment builds upon the concepts from the first 2 lessons. It will help to review these Jupyter notebooks:\n",
    "- PyTorch basics: https://jovian.ai/aakashns/01-pytorch-basics\n",
    "- Linear Regression: https://jovian.ai/aakashns/02-linear-regression\n",
    "- Logistic Regression: https://jovian.ai/aakashns/03-logistic-regression\n",
    "- Linear regression (minimal): https://jovian.ai/aakashns/housing-linear-minimal\n",
    "- Logistic regression (minimal): https://jovian.ai/aakashns/mnist-logistic-minimal\n",
    "\n",
    "As you go through this notebook, you will find a **???** in certain places. Your job is to replace the **???** with appropriate code or values, to ensure that the notebook runs properly end-to-end . In some cases, you'll be required to choose some hyperparameters (learning rate, batch size etc.). Try to experiment with the hypeparameters to get the lowest loss.\n"
   ]
  },
  {
   "cell_type": "code",
   "execution_count": 1,
   "metadata": {
    "id": "YC_A65SAtY4b"
   },
   "outputs": [
    {
     "name": "stdout",
     "output_type": "stream",
     "text": [
      "Looking in links: https://download.pytorch.org/whl/torch_stable.html\n",
      "Requirement already satisfied: numpy in c:\\users\\rashee\\appdata\\local\\programs\\python\\python39\\lib\\site-packages (1.20.3)\n",
      "Requirement already satisfied: matplotlib in c:\\users\\rashee\\appdata\\local\\programs\\python\\python39\\lib\\site-packages (3.4.2)\n",
      "Requirement already satisfied: pandas in c:\\users\\rashee\\appdata\\local\\programs\\python\\python39\\lib\\site-packages (1.2.4)\n",
      "Requirement already satisfied: torch==1.7.1+cpu in c:\\users\\rashee\\appdata\\local\\programs\\python\\python39\\lib\\site-packages (1.7.1+cpu)\n",
      "Requirement already satisfied: torchvision==0.8.2+cpu in c:\\users\\rashee\\appdata\\local\\programs\\python\\python39\\lib\\site-packages (0.8.2+cpu)\n",
      "Requirement already satisfied: torchaudio==0.7.1 in c:\\users\\rashee\\appdata\\local\\programs\\python\\python39\\lib\\site-packages (0.7.1)\n",
      "Requirement already satisfied: typing-extensions in c:\\users\\rashee\\appdata\\local\\programs\\python\\python39\\lib\\site-packages (from torch==1.7.1+cpu) (3.10.0.0)\n",
      "Requirement already satisfied: pillow>=4.1.1 in c:\\users\\rashee\\appdata\\local\\programs\\python\\python39\\lib\\site-packages (from torchvision==0.8.2+cpu) (8.2.0)\n",
      "Requirement already satisfied: kiwisolver>=1.0.1 in c:\\users\\rashee\\appdata\\local\\programs\\python\\python39\\lib\\site-packages (from matplotlib) (1.3.1)\n",
      "Requirement already satisfied: pyparsing>=2.2.1 in c:\\users\\rashee\\appdata\\local\\programs\\python\\python39\\lib\\site-packages (from matplotlib) (2.4.7)\n",
      "Requirement already satisfied: cycler>=0.10 in c:\\users\\rashee\\appdata\\local\\programs\\python\\python39\\lib\\site-packages (from matplotlib) (0.10.0)\n",
      "Requirement already satisfied: python-dateutil>=2.7 in c:\\users\\rashee\\appdata\\roaming\\python\\python39\\site-packages (from matplotlib) (2.8.1)\n",
      "Requirement already satisfied: six in c:\\users\\rashee\\appdata\\roaming\\python\\python39\\site-packages (from cycler>=0.10->matplotlib) (1.16.0)\n",
      "Requirement already satisfied: pytz>=2017.3 in c:\\users\\rashee\\appdata\\local\\programs\\python\\python39\\lib\\site-packages (from pandas) (2021.1)\n"
     ]
    }
   ],
   "source": [
    "# Uncomment and run the appropriate command for your operating system, if required\n",
    "\n",
    "# Linux / Binder\n",
    "# !pip install numpy matplotlib pandas torch==1.7.0+cpu torchvision==0.8.1+cpu torchaudio==0.7.0 -f https://download.pytorch.org/whl/torch_stable.html\n",
    "\n",
    "# Windows\n",
    "!pip install numpy matplotlib pandas torch==1.7.1+cpu torchvision==0.8.2+cpu torchaudio==0.7.1 -f https://download.pytorch.org/whl/torch_stable.html\n",
    "!pip install jovian --upgrade -q\n",
    "# MacOS\n",
    "# !pip install numpy matplotlib pandas torch torchvision torchaudio"
   ]
  },
  {
   "cell_type": "code",
   "execution_count": 2,
   "metadata": {
    "id": "XMdLp09ftY4c"
   },
   "outputs": [],
   "source": [
    "import torch\n",
    "import jovian\n",
    "import torchvision\n",
    "import torch.nn as nn\n",
    "import pandas as pd\n",
    "import matplotlib.pyplot as plt\n",
    "import torch.nn.functional as F\n",
    "from torchvision.datasets.utils import download_url\n",
    "from torch.utils.data import DataLoader, TensorDataset, random_split"
   ]
  },
  {
   "cell_type": "code",
   "execution_count": 3,
   "metadata": {
    "id": "ng1j8nwLtY4d"
   },
   "outputs": [],
   "source": [
    "project_name='02-assignment-insurance-linear-regression' # "
   ]
  },
  {
   "cell_type": "markdown",
   "metadata": {
    "id": "pWK5o3ZjtY4d"
   },
   "source": [
    "## Step 1: Download and explore the data\n",
    "\n",
    "Let us begin by downloading the data. We'll use the `download_url` function from PyTorch to get the data as a CSV (comma-separated values) file. "
   ]
  },
  {
   "cell_type": "code",
   "execution_count": 4,
   "metadata": {
    "_cell_guid": "79c7e3d0-c299-4dcb-8224-4455121ee9b0",
    "_uuid": "d629ff2d2480ee46fbb7e2d37f6b5fab8052498a",
    "colab": {
     "referenced_widgets": [
      "16a58808c5734ba9b8f1aa34b6bc14fc"
     ]
    },
    "id": "qg-eFVMEtY4d",
    "outputId": "f7a730bc-669b-4101-bcd6-70a91d13a84a"
   },
   "outputs": [
    {
     "name": "stdout",
     "output_type": "stream",
     "text": [
      "Using downloaded and verified file: .\\insurance.csv\n"
     ]
    }
   ],
   "source": [
    "DATASET_URL = \"https://hub.jovian.ml/wp-content/uploads/2020/05/insurance.csv\"\n",
    "DATA_FILENAME = \"insurance.csv\"\n",
    "download_url(DATASET_URL, '.')"
   ]
  },
  {
   "cell_type": "markdown",
   "metadata": {
    "id": "BIhlEhPitY4f"
   },
   "source": [
    "To load the dataset into memory, we'll use the `read_csv` function from the `pandas` library. The data will be loaded as a Pandas dataframe. See this short tutorial to learn more: https://data36.com/pandas-tutorial-1-basics-reading-data-files-dataframes-data-selection/"
   ]
  },
  {
   "cell_type": "code",
   "execution_count": 5,
   "metadata": {
    "id": "eG0bJF5otY4f",
    "outputId": "b45dec2a-6ce9-4ffc-c5b4-00b438fd18f3"
   },
   "outputs": [
    {
     "data": {
      "text/html": [
       "<div>\n",
       "<style scoped>\n",
       "    .dataframe tbody tr th:only-of-type {\n",
       "        vertical-align: middle;\n",
       "    }\n",
       "\n",
       "    .dataframe tbody tr th {\n",
       "        vertical-align: top;\n",
       "    }\n",
       "\n",
       "    .dataframe thead th {\n",
       "        text-align: right;\n",
       "    }\n",
       "</style>\n",
       "<table border=\"1\" class=\"dataframe\">\n",
       "  <thead>\n",
       "    <tr style=\"text-align: right;\">\n",
       "      <th></th>\n",
       "      <th>age</th>\n",
       "      <th>sex</th>\n",
       "      <th>bmi</th>\n",
       "      <th>children</th>\n",
       "      <th>smoker</th>\n",
       "      <th>region</th>\n",
       "      <th>charges</th>\n",
       "    </tr>\n",
       "  </thead>\n",
       "  <tbody>\n",
       "    <tr>\n",
       "      <th>0</th>\n",
       "      <td>19</td>\n",
       "      <td>female</td>\n",
       "      <td>27.900</td>\n",
       "      <td>0</td>\n",
       "      <td>yes</td>\n",
       "      <td>southwest</td>\n",
       "      <td>16884.92400</td>\n",
       "    </tr>\n",
       "    <tr>\n",
       "      <th>1</th>\n",
       "      <td>18</td>\n",
       "      <td>male</td>\n",
       "      <td>33.770</td>\n",
       "      <td>1</td>\n",
       "      <td>no</td>\n",
       "      <td>southeast</td>\n",
       "      <td>1725.55230</td>\n",
       "    </tr>\n",
       "    <tr>\n",
       "      <th>2</th>\n",
       "      <td>28</td>\n",
       "      <td>male</td>\n",
       "      <td>33.000</td>\n",
       "      <td>3</td>\n",
       "      <td>no</td>\n",
       "      <td>southeast</td>\n",
       "      <td>4449.46200</td>\n",
       "    </tr>\n",
       "    <tr>\n",
       "      <th>3</th>\n",
       "      <td>33</td>\n",
       "      <td>male</td>\n",
       "      <td>22.705</td>\n",
       "      <td>0</td>\n",
       "      <td>no</td>\n",
       "      <td>northwest</td>\n",
       "      <td>21984.47061</td>\n",
       "    </tr>\n",
       "    <tr>\n",
       "      <th>4</th>\n",
       "      <td>32</td>\n",
       "      <td>male</td>\n",
       "      <td>28.880</td>\n",
       "      <td>0</td>\n",
       "      <td>no</td>\n",
       "      <td>northwest</td>\n",
       "      <td>3866.85520</td>\n",
       "    </tr>\n",
       "  </tbody>\n",
       "</table>\n",
       "</div>"
      ],
      "text/plain": [
       "   age     sex     bmi  children smoker     region      charges\n",
       "0   19  female  27.900         0    yes  southwest  16884.92400\n",
       "1   18    male  33.770         1     no  southeast   1725.55230\n",
       "2   28    male  33.000         3     no  southeast   4449.46200\n",
       "3   33    male  22.705         0     no  northwest  21984.47061\n",
       "4   32    male  28.880         0     no  northwest   3866.85520"
      ]
     },
     "execution_count": 5,
     "metadata": {},
     "output_type": "execute_result"
    }
   ],
   "source": [
    "dataframe_raw = pd.read_csv(DATA_FILENAME)\n",
    "dataframe_raw.head()"
   ]
  },
  {
   "cell_type": "markdown",
   "metadata": {
    "id": "5hA4zJ2ftY4g"
   },
   "source": [
    "We're going to do a slight customization of the data, so that you every participant receives a slightly different version of the dataset. Fill in your name below as a string \n"
   ]
  },
  {
   "cell_type": "code",
   "execution_count": 6,
   "metadata": {
    "id": "ct8mWPlntY4g"
   },
   "outputs": [],
   "source": [
    "your_name = \"Rashee_Agarwal\" # "
   ]
  },
  {
   "cell_type": "markdown",
   "metadata": {
    "id": "kXI3yYH1tY4g"
   },
   "source": [
    "The `customize_dataset` function will customize the dataset slightly using your name as a source of random numbers."
   ]
  },
  {
   "cell_type": "code",
   "execution_count": 7,
   "metadata": {
    "id": "HbZV1KqPtY4h"
   },
   "outputs": [],
   "source": [
    "def customize_dataset(dataframe_raw, rand_str):\n",
    "    dataframe = dataframe_raw.copy(deep=True)\n",
    "    # drop some rows\n",
    "    dataframe = dataframe.sample(int(0.95*len(dataframe)), random_state=int(ord(rand_str[0])))\n",
    "    # scale input\n",
    "    dataframe.bmi = dataframe.bmi * ord(rand_str[1])/100.\n",
    "    # scale target\n",
    "    dataframe.charges = dataframe.charges * ord(rand_str[2])/100.\n",
    "    # drop column\n",
    "    if ord(rand_str[3]) % 2 == 1:\n",
    "        dataframe = dataframe.drop(['region'], axis=1)\n",
    "    return dataframe"
   ]
  },
  {
   "cell_type": "code",
   "execution_count": 8,
   "metadata": {
    "id": "X7DlSkuKtY4h",
    "outputId": "3a9920a8-4324-49ab-e114-da0360a3b35a"
   },
   "outputs": [
    {
     "data": {
      "text/html": [
       "<div>\n",
       "<style scoped>\n",
       "    .dataframe tbody tr th:only-of-type {\n",
       "        vertical-align: middle;\n",
       "    }\n",
       "\n",
       "    .dataframe tbody tr th {\n",
       "        vertical-align: top;\n",
       "    }\n",
       "\n",
       "    .dataframe thead th {\n",
       "        text-align: right;\n",
       "    }\n",
       "</style>\n",
       "<table border=\"1\" class=\"dataframe\">\n",
       "  <thead>\n",
       "    <tr style=\"text-align: right;\">\n",
       "      <th></th>\n",
       "      <th>age</th>\n",
       "      <th>sex</th>\n",
       "      <th>bmi</th>\n",
       "      <th>children</th>\n",
       "      <th>smoker</th>\n",
       "      <th>region</th>\n",
       "      <th>charges</th>\n",
       "    </tr>\n",
       "  </thead>\n",
       "  <tbody>\n",
       "    <tr>\n",
       "      <th>457</th>\n",
       "      <td>57</td>\n",
       "      <td>female</td>\n",
       "      <td>29.58015</td>\n",
       "      <td>0</td>\n",
       "      <td>no</td>\n",
       "      <td>northwest</td>\n",
       "      <td>13616.891308</td>\n",
       "    </tr>\n",
       "    <tr>\n",
       "      <th>1050</th>\n",
       "      <td>44</td>\n",
       "      <td>female</td>\n",
       "      <td>35.84635</td>\n",
       "      <td>1</td>\n",
       "      <td>no</td>\n",
       "      <td>northwest</td>\n",
       "      <td>9226.605767</td>\n",
       "    </tr>\n",
       "    <tr>\n",
       "      <th>56</th>\n",
       "      <td>58</td>\n",
       "      <td>female</td>\n",
       "      <td>30.87025</td>\n",
       "      <td>2</td>\n",
       "      <td>no</td>\n",
       "      <td>northeast</td>\n",
       "      <td>15648.474062</td>\n",
       "    </tr>\n",
       "    <tr>\n",
       "      <th>311</th>\n",
       "      <td>19</td>\n",
       "      <td>female</td>\n",
       "      <td>23.95900</td>\n",
       "      <td>0</td>\n",
       "      <td>no</td>\n",
       "      <td>southwest</td>\n",
       "      <td>1997.982400</td>\n",
       "    </tr>\n",
       "    <tr>\n",
       "      <th>1288</th>\n",
       "      <td>20</td>\n",
       "      <td>male</td>\n",
       "      <td>38.21800</td>\n",
       "      <td>2</td>\n",
       "      <td>yes</td>\n",
       "      <td>southwest</td>\n",
       "      <td>44096.250900</td>\n",
       "    </tr>\n",
       "  </tbody>\n",
       "</table>\n",
       "</div>"
      ],
      "text/plain": [
       "      age     sex       bmi  children smoker     region       charges\n",
       "457    57  female  29.58015         0     no  northwest  13616.891308\n",
       "1050   44  female  35.84635         1     no  northwest   9226.605767\n",
       "56     58  female  30.87025         2     no  northeast  15648.474062\n",
       "311    19  female  23.95900         0     no  southwest   1997.982400\n",
       "1288   20    male  38.21800         2    yes  southwest  44096.250900"
      ]
     },
     "execution_count": 8,
     "metadata": {},
     "output_type": "execute_result"
    }
   ],
   "source": [
    "dataframe = customize_dataset(dataframe_raw, your_name)\n",
    "dataframe.head()"
   ]
  },
  {
   "cell_type": "markdown",
   "metadata": {
    "id": "vfYRs6iqtY4h"
   },
   "source": [
    "Let us answer some basic questions about the dataset. \n",
    "\n",
    "\n",
    "**Q: How many rows does the dataset have?**"
   ]
  },
  {
   "cell_type": "code",
   "execution_count": 9,
   "metadata": {
    "id": "kVRtdIIPtY4h",
    "outputId": "b46e6298-9a38-4017-f6c8-02ae7b9247f4"
   },
   "outputs": [
    {
     "name": "stdout",
     "output_type": "stream",
     "text": [
      "1271\n"
     ]
    }
   ],
   "source": [
    "num_rows = len(dataframe.index)\n",
    "print(num_rows)"
   ]
  },
  {
   "cell_type": "markdown",
   "metadata": {
    "id": "YctnqlaLtY4i"
   },
   "source": [
    "**Q: How many columns doe the dataset have**"
   ]
  },
  {
   "cell_type": "code",
   "execution_count": 10,
   "metadata": {
    "id": "smjvHpn4tY4i",
    "outputId": "59134106-bca8-4124-e585-d24158f1a1d9"
   },
   "outputs": [
    {
     "name": "stdout",
     "output_type": "stream",
     "text": [
      "7\n"
     ]
    }
   ],
   "source": [
    "num_cols = len(dataframe.columns)\n",
    "print(num_cols)"
   ]
  },
  {
   "cell_type": "markdown",
   "metadata": {
    "id": "TBpMSC-PtY4i"
   },
   "source": [
    "**Q: What are the column titles of the input variables?**"
   ]
  },
  {
   "cell_type": "code",
   "execution_count": 11,
   "metadata": {
    "id": "SgAhzZPTtY4j",
    "outputId": "efa24eb6-8f0f-44be-a233-7d0bca1931d9"
   },
   "outputs": [
    {
     "name": "stdout",
     "output_type": "stream",
     "text": [
      "['age', 'sex', 'bmi', 'children', 'smoker', 'region', 'charges']\n"
     ]
    }
   ],
   "source": [
    "input_cols = list(dataframe.columns)\n",
    "print(input_cols)"
   ]
  },
  {
   "cell_type": "markdown",
   "metadata": {
    "id": "fRjDrP4qtY4j"
   },
   "source": [
    "**Q: Which of the input columns are non-numeric or categorial variables ?**\n",
    "\n",
    "Hint: `sex` is one of them. List the columns that are not numbers."
   ]
  },
  {
   "cell_type": "code",
   "execution_count": 12,
   "metadata": {
    "id": "ZjqGidJOtY4j",
    "outputId": "6a63ed60-2a2e-4354-854f-46f3031a13fa"
   },
   "outputs": [
    {
     "name": "stdout",
     "output_type": "stream",
     "text": [
      "['sex', 'smoker', 'region']\n"
     ]
    }
   ],
   "source": [
    "categorical_cols = list(dataframe.select_dtypes([\"object\"]).columns)\n",
    "print(categorical_cols)"
   ]
  },
  {
   "cell_type": "markdown",
   "metadata": {
    "id": "cCYnL25itY4j"
   },
   "source": [
    "**Q: What are the column titles of output/target variable(s)?**"
   ]
  },
  {
   "cell_type": "code",
   "execution_count": 13,
   "metadata": {
    "id": "HXEKhnqYtY4k",
    "outputId": "2013b9e4-d3a2-4c2b-c9ff-e080fbe6c8d9"
   },
   "outputs": [
    {
     "name": "stdout",
     "output_type": "stream",
     "text": [
      "['charges']\n"
     ]
    }
   ],
   "source": [
    "output_cols = [\"charges\"]\n",
    "print(output_cols)"
   ]
  },
  {
   "cell_type": "markdown",
   "metadata": {
    "id": "P8fI0L9FtY4k"
   },
   "source": [
    "**Q: (Optional) What is the minimum, maximum and average value of the `charges` column? Can you show the distribution of values in a graph?**\n",
    "Use this data visualization cheatsheet for referece: https://jovian.ml/aakashns/dataviz-cheatsheet"
   ]
  },
  {
   "cell_type": "code",
   "execution_count": 14,
   "metadata": {
    "id": "GcqFwDF3tY4k",
    "outputId": "49eadb8f-db0f-4283-c465-c7129233b777"
   },
   "outputs": [
    {
     "name": "stdout",
     "output_type": "stream",
     "text": [
      "count     1271.000000\n",
      "mean     15089.132315\n",
      "std      13674.749853\n",
      "min       1290.154985\n",
      "25%       5461.420667\n",
      "50%      10700.407185\n",
      "75%      18901.048819\n",
      "max      73335.992212\n",
      "Name: charges, dtype: float64\n"
     ]
    },
    {
     "data": {
      "text/plain": [
       "[<matplotlib.lines.Line2D at 0x24709bd92e0>]"
      ]
     },
     "execution_count": 14,
     "metadata": {},
     "output_type": "execute_result"
    },
    {
     "data": {
      "image/png": "[encoded data removed]",
      "text/plain": [
       "<Figure size 432x288 with 1 Axes>"
      ]
     },
     "metadata": {
      "needs_background": "light"
     },
     "output_type": "display_data"
    }
   ],
   "source": [
    "options = dataframe[\"charges\"].describe()\n",
    "print(options)\n",
    "plt.plot(options)"
   ]
  },
  {
   "cell_type": "markdown",
   "metadata": {
    "id": "dZy74frCtY4k"
   },
   "source": [
    "Remember to commit your notebook to Jovian after every step, so that you don't lose your work."
   ]
  },
  {
   "cell_type": "markdown",
   "metadata": {
    "id": "0VXlCCwvtY4l"
   },
   "source": [
    "## Step 2: Prepare the dataset for training\n",
    "\n",
    "We need to convert the data from the Pandas dataframe into a PyTorch tensors for training. To do this, the first step is to convert it numpy arrays. If you've filled out `input_cols`, `categorial_cols` and `output_cols` correctly, this following function will perform the conversion to numpy arrays."
   ]
  },
  {
   "cell_type": "code",
   "execution_count": 15,
   "metadata": {
    "id": "hOWs4GUNtY4l"
   },
   "outputs": [],
   "source": [
    "def dataframe_to_arrays(dataframe):\n",
    "    # Make a copy of the original dataframe\n",
    "    dataframe1 = dataframe.copy(deep=True)\n",
    "    # Convert non-numeric categorical columns to numbers\n",
    "    for col in categorical_cols:\n",
    "        dataframe1[col] = dataframe1[col].astype('category').cat.codes\n",
    "    # Extract input & outupts as numpy arrays\n",
    "    inputs_array = dataframe1[input_cols].to_numpy()\n",
    "    targets_array = dataframe1[output_cols].to_numpy()\n",
    "    return inputs_array, targets_array"
   ]
  },
  {
   "cell_type": "markdown",
   "metadata": {
    "id": "pE9PgcDltY4m"
   },
   "source": [
    "Read through the [Pandas documentation](https://pandas.pydata.org/pandas-docs/stable/user_guide/categorical.html) to understand how we're converting categorical variables into numbers."
   ]
  },
  {
   "cell_type": "code",
   "execution_count": 16,
   "metadata": {
    "id": "0GEfEiCUtY4m"
   },
   "outputs": [
    {
     "data": {
      "text/plain": [
       "(array([[5.70000000e+01, 0.00000000e+00, 2.95801500e+01, ...,\n",
       "         0.00000000e+00, 1.00000000e+00, 1.36168913e+04],\n",
       "        [4.40000000e+01, 0.00000000e+00, 3.58463500e+01, ...,\n",
       "         0.00000000e+00, 1.00000000e+00, 9.22660577e+03],\n",
       "        [5.80000000e+01, 0.00000000e+00, 3.08702500e+01, ...,\n",
       "         0.00000000e+00, 0.00000000e+00, 1.56484741e+04],\n",
       "        ...,\n",
       "        [5.90000000e+01, 0.00000000e+00, 3.37560000e+01, ...,\n",
       "         0.00000000e+00, 3.00000000e+00, 4.24471992e+04],\n",
       "        [4.10000000e+01, 1.00000000e+00, 2.79360000e+01, ...,\n",
       "         0.00000000e+00, 3.00000000e+00, 7.22457025e+03],\n",
       "        [3.60000000e+01, 0.00000000e+00, 2.91194000e+01, ...,\n",
       "         0.00000000e+00, 1.00000000e+00, 6.06300217e+03]]),\n",
       " array([[13616.8913075],\n",
       "        [ 9226.6057675],\n",
       "        [15648.4740625],\n",
       "        ...,\n",
       "        [42447.1992345],\n",
       "        [ 7224.57025  ],\n",
       "        [ 6063.00217  ]]))"
      ]
     },
     "execution_count": 16,
     "metadata": {},
     "output_type": "execute_result"
    }
   ],
   "source": [
    "inputs_array, targets_array = dataframe_to_arrays(dataframe)\n",
    "inputs_array, targets_array"
   ]
  },
  {
   "cell_type": "markdown",
   "metadata": {
    "id": "CXNNbm8mtY4m"
   },
   "source": [
    "**Q: Convert the numpy arrays `inputs_array` and `targets_array` into PyTorch tensors. Make sure that the data type is `torch.float32`.**"
   ]
  },
  {
   "cell_type": "code",
   "execution_count": 17,
   "metadata": {
    "id": "VbuHglVbtY4m"
   },
   "outputs": [],
   "source": [
    "inputs = torch.from_numpy(inputs_array).float()\n",
    "targets = torch.from_numpy(targets_array).float()"
   ]
  },
  {
   "cell_type": "code",
   "execution_count": 18,
   "metadata": {
    "id": "Eepdr772tY4m"
   },
   "outputs": [
    {
     "data": {
      "text/plain": [
       "(torch.float32, torch.float32)"
      ]
     },
     "execution_count": 18,
     "metadata": {},
     "output_type": "execute_result"
    }
   ],
   "source": [
    "inputs.dtype, targets.dtype"
   ]
  },
  {
   "cell_type": "markdown",
   "metadata": {
    "id": "Y7f4XrLwtY4n"
   },
   "source": [
    "Next, we need to create PyTorch datasets & data loaders for training & validation. We'll start by creating a `TensorDataset`."
   ]
  },
  {
   "cell_type": "code",
   "execution_count": 19,
   "metadata": {
    "id": "RW6zPamMtY4n"
   },
   "outputs": [],
   "source": [
    "dataset = TensorDataset(inputs, targets)"
   ]
  },
  {
   "cell_type": "markdown",
   "metadata": {
    "id": "1d-gS0jStY4n"
   },
   "source": [
    "**Q: Pick a number between `0.1` and `0.2` to determine the fraction of data that will be used for creating the validation set. Then use `random_split` to create training & validation datasets.**"
   ]
  },
  {
   "cell_type": "code",
   "execution_count": 20,
   "metadata": {
    "id": "aVrXf5-BtY4n"
   },
   "outputs": [],
   "source": [
    "val_percent = 0.2 # between 0.1 and 0.2\n",
    "val_size = int(num_rows * val_percent)\n",
    "train_size = num_rows - val_size\n",
    "\n",
    "\n",
    "train_ds, val_ds = random_split(dataset, [train_size,val_size]) # Use the random_split function to split dataset into 2 parts of the desired length"
   ]
  },
  {
   "cell_type": "markdown",
   "metadata": {
    "id": "qbBseZSgtY4n"
   },
   "source": [
    "Finally, we can create data loaders for training & validation.\n",
    "\n",
    "**Q: Pick a batch size for the data loader.**"
   ]
  },
  {
   "cell_type": "code",
   "execution_count": 21,
   "metadata": {
    "id": "EtdnxMujtY4n"
   },
   "outputs": [],
   "source": [
    "batch_size = 500"
   ]
  },
  {
   "cell_type": "code",
   "execution_count": 22,
   "metadata": {
    "id": "7zgncTh_tY4o"
   },
   "outputs": [],
   "source": [
    "train_loader = DataLoader(train_ds, batch_size, shuffle=True)\n",
    "val_loader = DataLoader(val_ds, batch_size)"
   ]
  },
  {
   "cell_type": "markdown",
   "metadata": {
    "id": "pGpXE0PdtY4o"
   },
   "source": [
    "Let's look at a batch of data to verify everything is working fine so far."
   ]
  },
  {
   "cell_type": "code",
   "execution_count": 23,
   "metadata": {
    "id": "nAsS_TwGtY4o"
   },
   "outputs": [
    {
     "name": "stdout",
     "output_type": "stream",
     "text": [
      "inputs: tensor([[5.7000e+01, 1.0000e+00, 4.0866e+01,  ..., 1.0000e+00, 2.0000e+00,\n",
      "         5.5977e+04],\n",
      "        [4.0000e+01, 0.0000e+00, 2.4696e+01,  ..., 0.0000e+00, 0.0000e+00,\n",
      "         8.1388e+03],\n",
      "        [5.7000e+01, 1.0000e+00, 3.0594e+01,  ..., 0.0000e+00, 1.0000e+00,\n",
      "         1.3056e+04],\n",
      "        ...,\n",
      "        [6.0000e+01, 1.0000e+00, 3.2117e+01,  ..., 0.0000e+00, 2.0000e+00,\n",
      "         1.6008e+04],\n",
      "        [2.0000e+01, 0.0000e+00, 2.6035e+01,  ..., 1.0000e+00, 2.0000e+00,\n",
      "         1.9648e+04],\n",
      "        [2.4000e+01, 0.0000e+00, 2.3498e+01,  ..., 0.0000e+00, 1.0000e+00,\n",
      "         3.2692e+03]])\n",
      "targets: tensor([[55976.8438],\n",
      "        [ 8138.7676],\n",
      "        [13056.2119],\n",
      "        [ 7260.8228],\n",
      "        [ 4593.3047],\n",
      "        [ 9343.0693],\n",
      "        [13943.7412],\n",
      "        [ 5754.4312],\n",
      "        [ 9232.1631],\n",
      "        [ 1312.6619],\n",
      "        [28198.3027],\n",
      "        [ 1874.3085],\n",
      "        [ 6991.6221],\n",
      "        [15835.6123],\n",
      "        [ 9594.3447],\n",
      "        [ 7798.5571],\n",
      "        [ 4014.1313],\n",
      "        [12629.8770],\n",
      "        [ 6547.4453],\n",
      "        [ 1321.8053],\n",
      "        [14998.2090],\n",
      "        [12754.3252],\n",
      "        [20120.7520],\n",
      "        [36363.0000],\n",
      "        [45537.0195],\n",
      "        [ 8531.3008],\n",
      "        [ 3500.8452],\n",
      "        [11598.7227],\n",
      "        [14964.0400],\n",
      "        [38792.5898],\n",
      "        [13505.5244],\n",
      "        [14753.8730],\n",
      "        [41424.1641],\n",
      "        [ 7362.6353],\n",
      "        [16589.9844],\n",
      "        [13634.8730],\n",
      "        [ 7760.8799],\n",
      "        [ 4446.8833],\n",
      "        [42363.0859],\n",
      "        [50833.0508],\n",
      "        [46003.8320],\n",
      "        [ 2192.3120],\n",
      "        [ 6238.7769],\n",
      "        [22096.9121],\n",
      "        [ 1764.4502],\n",
      "        [ 9891.5283],\n",
      "        [12428.6094],\n",
      "        [11396.9141],\n",
      "        [ 7113.1191],\n",
      "        [ 8798.3896],\n",
      "        [ 2825.7927],\n",
      "        [34712.6758],\n",
      "        [13070.8447],\n",
      "        [ 5248.8203],\n",
      "        [ 4137.2354],\n",
      "        [ 2112.8225],\n",
      "        [41753.9688],\n",
      "        [ 9806.6621],\n",
      "        [12568.1768],\n",
      "        [ 5104.0029],\n",
      "        [21077.4746],\n",
      "        [10765.5254],\n",
      "        [ 6184.0767],\n",
      "        [ 9296.5078],\n",
      "        [ 6243.0366],\n",
      "        [ 8958.0801],\n",
      "        [ 1960.2533],\n",
      "        [ 3538.6599],\n",
      "        [ 7590.4150],\n",
      "        [27668.6328],\n",
      "        [43504.1836],\n",
      "        [ 2278.8191],\n",
      "        [10636.9199],\n",
      "        [11060.3115],\n",
      "        [11489.6934],\n",
      "        [ 4292.5190],\n",
      "        [31664.0000],\n",
      "        [40419.6562],\n",
      "        [46314.6914],\n",
      "        [12667.4512],\n",
      "        [ 7636.6265],\n",
      "        [13663.5615],\n",
      "        [ 4321.5215],\n",
      "        [21582.8984],\n",
      "        [15115.4443],\n",
      "        [ 2834.3115],\n",
      "        [ 4685.6216],\n",
      "        [44611.5898],\n",
      "        [ 4870.1660],\n",
      "        [13736.9023],\n",
      "        [49742.5820],\n",
      "        [ 7042.1040],\n",
      "        [15588.2559],\n",
      "        [11362.0781],\n",
      "        [ 2363.6235],\n",
      "        [32316.5332],\n",
      "        [26727.6953],\n",
      "        [ 1871.3749],\n",
      "        [25850.3906],\n",
      "        [13736.2832],\n",
      "        [23171.7207],\n",
      "        [ 8835.0703],\n",
      "        [15784.2930],\n",
      "        [ 3647.3572],\n",
      "        [ 6588.3560],\n",
      "        [ 3207.4160],\n",
      "        [20739.0625],\n",
      "        [ 5674.9106],\n",
      "        [33198.9648],\n",
      "        [11160.3682],\n",
      "        [31980.0332],\n",
      "        [ 5343.7729],\n",
      "        [ 8033.3330],\n",
      "        [ 5389.3472],\n",
      "        [ 4440.3911],\n",
      "        [14265.6113],\n",
      "        [ 7907.3550],\n",
      "        [ 3856.2766],\n",
      "        [ 9709.0674],\n",
      "        [10800.0479],\n",
      "        [ 1450.6583],\n",
      "        [ 8423.8057],\n",
      "        [23319.4785],\n",
      "        [38985.7500],\n",
      "        [30965.4922],\n",
      "        [ 7035.1187],\n",
      "        [22711.7910],\n",
      "        [ 2534.2964],\n",
      "        [58873.7422],\n",
      "        [ 2951.4414],\n",
      "        [ 5892.8169],\n",
      "        [19697.6895],\n",
      "        [38497.1914],\n",
      "        [ 7471.4189],\n",
      "        [ 6861.9204],\n",
      "        [ 5622.3921],\n",
      "        [ 8290.9160],\n",
      "        [11183.2100],\n",
      "        [ 5360.4795],\n",
      "        [ 8330.3857],\n",
      "        [ 5132.1299],\n",
      "        [12320.6904],\n",
      "        [ 5427.6973],\n",
      "        [50509.3594],\n",
      "        [ 3959.5237],\n",
      "        [ 6254.5615],\n",
      "        [ 2434.9397],\n",
      "        [ 9675.4824],\n",
      "        [ 9692.2793],\n",
      "        [ 4991.5068],\n",
      "        [13969.0166],\n",
      "        [24551.0117],\n",
      "        [27470.8125],\n",
      "        [ 8446.8467],\n",
      "        [ 2265.0562],\n",
      "        [17236.6973],\n",
      "        [ 5616.4458],\n",
      "        [ 7651.8569],\n",
      "        [28600.3125],\n",
      "        [ 1452.7363],\n",
      "        [ 9800.3037],\n",
      "        [31447.9492],\n",
      "        [ 2479.0337],\n",
      "        [ 8903.4268],\n",
      "        [ 6211.1274],\n",
      "        [ 5552.0908],\n",
      "        [ 2901.6450],\n",
      "        [ 3224.2524],\n",
      "        [ 6276.7534],\n",
      "        [10827.1582],\n",
      "        [10864.4902],\n",
      "        [14218.0791],\n",
      "        [ 7125.9150],\n",
      "        [12347.4014],\n",
      "        [39643.7656],\n",
      "        [25774.5449],\n",
      "        [31301.2031],\n",
      "        [ 4114.6987],\n",
      "        [ 8219.1709],\n",
      "        [ 6497.1724],\n",
      "        [ 5390.9663],\n",
      "        [13205.0303],\n",
      "        [13618.8086],\n",
      "        [ 9897.1504],\n",
      "        [49285.3633],\n",
      "        [ 2284.9734],\n",
      "        [ 1869.2488],\n",
      "        [ 1925.8271],\n",
      "        [ 2323.6353],\n",
      "        [ 5100.3584],\n",
      "        [13527.4512],\n",
      "        [48241.6289],\n",
      "        [ 6434.0723],\n",
      "        [22959.4590],\n",
      "        [ 5374.4009],\n",
      "        [ 3921.8726],\n",
      "        [ 1878.0011],\n",
      "        [10467.0674],\n",
      "        [14523.5400],\n",
      "        [ 9814.8730],\n",
      "        [13407.1357],\n",
      "        [18497.8965],\n",
      "        [13239.2656],\n",
      "        [23011.0781],\n",
      "        [ 3514.8464],\n",
      "        [14066.3555],\n",
      "        [13312.5498],\n",
      "        [ 8103.7305],\n",
      "        [ 4968.4727],\n",
      "        [ 7188.0005],\n",
      "        [ 2647.6450],\n",
      "        [13605.1982],\n",
      "        [ 8203.9883],\n",
      "        [ 2097.9282],\n",
      "        [15468.7900],\n",
      "        [ 8786.3555],\n",
      "        [ 6734.2881],\n",
      "        [15896.2236],\n",
      "        [71981.8047],\n",
      "        [14652.3428],\n",
      "        [ 6475.0264],\n",
      "        [ 4988.3955],\n",
      "        [20633.4219],\n",
      "        [37644.3125],\n",
      "        [24928.8750],\n",
      "        [15184.9287],\n",
      "        [16252.9932],\n",
      "        [ 2106.9082],\n",
      "        [27808.0742],\n",
      "        [ 4325.4858],\n",
      "        [ 2973.0593],\n",
      "        [ 3221.4475],\n",
      "        [ 5116.8813],\n",
      "        [ 4588.3174],\n",
      "        [ 2204.9163],\n",
      "        [24448.2852],\n",
      "        [ 5099.0034],\n",
      "        [ 6050.6899],\n",
      "        [10308.6699],\n",
      "        [22450.2637],\n",
      "        [ 9476.6777],\n",
      "        [ 3331.9221],\n",
      "        [ 3806.2615],\n",
      "        [12757.6660],\n",
      "        [40934.9297],\n",
      "        [51060.4688],\n",
      "        [45127.6602],\n",
      "        [44096.2500],\n",
      "        [ 9711.1455],\n",
      "        [14108.9268],\n",
      "        [ 6181.2935],\n",
      "        [ 7664.3887],\n",
      "        [15427.2939],\n",
      "        [ 1427.7998],\n",
      "        [13406.8320],\n",
      "        [12018.1348],\n",
      "        [ 2480.2646],\n",
      "        [18742.5234],\n",
      "        [14110.1416],\n",
      "        [ 8901.3877],\n",
      "        [ 7213.3486],\n",
      "        [ 6457.6743],\n",
      "        [ 9599.2393],\n",
      "        [ 6815.8730],\n",
      "        [ 5920.8354],\n",
      "        [ 5310.7920],\n",
      "        [ 3366.1245],\n",
      "        [10822.6553],\n",
      "        [33951.6406],\n",
      "        [13123.4375],\n",
      "        [ 5206.2603],\n",
      "        [51337.3789],\n",
      "        [23889.6719],\n",
      "        [24834.6895],\n",
      "        [10654.5166],\n",
      "        [10405.2314],\n",
      "        [12734.1523],\n",
      "        [28367.5312],\n",
      "        [23270.0820],\n",
      "        [22252.9238],\n",
      "        [16394.6211],\n",
      "        [ 3759.1736],\n",
      "        [ 5371.2358],\n",
      "        [54514.4609],\n",
      "        [12001.5107],\n",
      "        [46828.6328],\n",
      "        [33564.4531],\n",
      "        [34798.9961],\n",
      "        [ 7111.9443],\n",
      "        [ 3039.7588],\n",
      "        [23192.4355],\n",
      "        [69024.6094],\n",
      "        [ 4872.6953],\n",
      "        [ 3724.2012],\n",
      "        [ 3652.7310],\n",
      "        [45489.9688],\n",
      "        [ 3334.4128],\n",
      "        [ 3296.0046],\n",
      "        [20410.7812],\n",
      "        [ 2088.2573],\n",
      "        [ 5225.8701],\n",
      "        [22470.1289],\n",
      "        [14172.5264],\n",
      "        [ 8306.2041],\n",
      "        [47261.7344],\n",
      "        [10559.4951],\n",
      "        [23204.3223],\n",
      "        [12982.4756],\n",
      "        [22624.3359],\n",
      "        [10270.5752],\n",
      "        [ 9798.0303],\n",
      "        [ 5563.2197],\n",
      "        [ 4090.4607],\n",
      "        [ 4096.1724],\n",
      "        [19756.4512],\n",
      "        [ 2162.0806],\n",
      "        [27378.3262],\n",
      "        [40815.3867],\n",
      "        [12308.0391],\n",
      "        [ 7367.3721],\n",
      "        [53050.1055],\n",
      "        [ 7233.2183],\n",
      "        [ 4666.8335],\n",
      "        [10271.8965],\n",
      "        [15443.3906],\n",
      "        [45681.1562],\n",
      "        [ 4772.1963],\n",
      "        [ 2259.4971],\n",
      "        [26911.5020],\n",
      "        [25282.1406],\n",
      "        [50535.4570],\n",
      "        [30025.7285],\n",
      "        [31421.1445],\n",
      "        [48299.4492],\n",
      "        [ 1977.3517],\n",
      "        [ 2873.1765],\n",
      "        [ 6865.1816],\n",
      "        [11074.9570],\n",
      "        [ 5093.2212],\n",
      "        [11549.7363],\n",
      "        [14351.6650],\n",
      "        [ 7689.3960],\n",
      "        [51760.2969],\n",
      "        [ 1984.3851],\n",
      "        [ 3681.4319],\n",
      "        [ 5180.3618],\n",
      "        [11458.6689],\n",
      "        [10310.6650],\n",
      "        [20998.0977],\n",
      "        [22442.8730],\n",
      "        [43357.1602],\n",
      "        [ 4424.8252],\n",
      "        [12149.6172],\n",
      "        [ 1451.1378],\n",
      "        [ 7475.2715],\n",
      "        [47082.4766],\n",
      "        [32132.4805],\n",
      "        [15444.8047],\n",
      "        [11575.2246],\n",
      "        [ 1877.4491],\n",
      "        [18190.6836],\n",
      "        [ 2828.6782],\n",
      "        [ 8891.6367],\n",
      "        [ 7716.7207],\n",
      "        [ 9584.7783],\n",
      "        [ 2458.3018],\n",
      "        [ 9268.6309],\n",
      "        [14369.5850],\n",
      "        [26782.2676],\n",
      "        [42067.3242],\n",
      "        [ 9147.6943],\n",
      "        [ 7650.4082],\n",
      "        [18193.8047],\n",
      "        [ 1865.5167],\n",
      "        [22923.4766],\n",
      "        [ 5764.3418],\n",
      "        [ 9490.1270],\n",
      "        [ 1306.3318],\n",
      "        [ 2826.1272],\n",
      "        [ 7765.9937],\n",
      "        [ 7973.2285],\n",
      "        [14441.2461],\n",
      "        [ 9894.3965],\n",
      "        [ 6124.4985],\n",
      "        [ 8557.7266],\n",
      "        [24407.2266],\n",
      "        [ 5458.2954],\n",
      "        [ 6157.1860],\n",
      "        [16918.5059],\n",
      "        [ 9272.1787],\n",
      "        [10572.9141],\n",
      "        [10146.7705],\n",
      "        [10605.7627],\n",
      "        [45553.5195],\n",
      "        [ 2550.0896],\n",
      "        [53131.1328],\n",
      "        [21818.3691],\n",
      "        [11002.0391],\n",
      "        [44848.3281],\n",
      "        [ 1848.6366],\n",
      "        [16540.1152],\n",
      "        [ 4247.4424],\n",
      "        [11257.1953],\n",
      "        [ 2447.6958],\n",
      "        [12823.3975],\n",
      "        [13269.1846],\n",
      "        [ 7114.0459],\n",
      "        [ 2195.9565],\n",
      "        [ 9219.6201],\n",
      "        [ 1885.4976],\n",
      "        [11582.8633],\n",
      "        [14402.1455],\n",
      "        [55399.3633],\n",
      "        [ 1986.6710],\n",
      "        [13285.8398],\n",
      "        [15921.1816],\n",
      "        [ 9278.4131],\n",
      "        [13060.1602],\n",
      "        [19599.8418],\n",
      "        [ 6554.8130],\n",
      "        [ 5175.3901],\n",
      "        [ 8974.7842],\n",
      "        [16466.8848],\n",
      "        [24693.3516],\n",
      "        [ 3695.6653],\n",
      "        [21897.0078],\n",
      "        [ 1961.4681],\n",
      "        [13612.7344],\n",
      "        [12979.5195],\n",
      "        [30437.1621],\n",
      "        [14926.2617],\n",
      "        [20950.8848],\n",
      "        [ 9834.0488],\n",
      "        [10160.5547],\n",
      "        [23857.8867],\n",
      "        [ 2914.5527],\n",
      "        [ 9726.4902],\n",
      "        [ 4436.4233],\n",
      "        [48542.8086],\n",
      "        [45811.9961],\n",
      "        [10147.5840],\n",
      "        [16779.2266],\n",
      "        [23815.3730],\n",
      "        [12410.7539],\n",
      "        [54113.8633],\n",
      "        [43845.1836],\n",
      "        [ 6032.9541],\n",
      "        [48429.0703],\n",
      "        [25040.4707],\n",
      "        [53030.5391],\n",
      "        [15199.6582],\n",
      "        [ 6299.7422],\n",
      "        [ 6289.3574],\n",
      "        [12415.8027],\n",
      "        [18883.5684],\n",
      "        [ 3902.3599],\n",
      "        [ 2418.5420],\n",
      "        [12731.1152],\n",
      "        [16370.3330],\n",
      "        [39448.6406],\n",
      "        [43982.4336],\n",
      "        [44515.5508],\n",
      "        [14543.1377],\n",
      "        [27722.9492],\n",
      "        [ 9387.1240],\n",
      "        [ 6191.0664],\n",
      "        [ 3191.4709],\n",
      "        [29530.5957],\n",
      "        [16028.3164],\n",
      "        [ 5132.6860],\n",
      "        [42492.7969],\n",
      "        [ 5196.6504],\n",
      "        [ 5449.0083],\n",
      "        [13047.3467],\n",
      "        [ 6824.5366],\n",
      "        [ 3901.2200],\n",
      "        [ 3768.7351],\n",
      "        [16553.7422],\n",
      "        [21445.6855],\n",
      "        [28372.4121],\n",
      "        [25681.3027],\n",
      "        [ 5098.3960],\n",
      "        [44025.1602],\n",
      "        [15114.8369],\n",
      "        [11063.3799],\n",
      "        [ 7590.2368],\n",
      "        [14524.3809],\n",
      "        [ 4004.1482],\n",
      "        [ 5496.5425],\n",
      "        [19315.8730],\n",
      "        [ 3117.4529],\n",
      "        [ 4087.3335],\n",
      "        [41857.2109],\n",
      "        [10700.4072],\n",
      "        [21739.0156],\n",
      "        [44517.6484],\n",
      "        [ 1965.2646],\n",
      "        [16007.7959],\n",
      "        [19648.0586],\n",
      "        [ 3269.1748]])\n"
     ]
    }
   ],
   "source": [
    "for xb, yb in train_loader:\n",
    "    print(\"inputs:\", xb)\n",
    "    print(\"targets:\", yb)\n",
    "    break"
   ]
  },
  {
   "cell_type": "markdown",
   "metadata": {
    "id": "HyjT5bMgtY4p"
   },
   "source": [
    "## Step 3: Create a Linear Regression Model\n",
    "\n",
    "Our model itself is a fairly straightforward linear regression (we'll build more complex models in the next assignment). \n"
   ]
  },
  {
   "cell_type": "code",
   "execution_count": 24,
   "metadata": {
    "id": "QkQuqGSutY4p"
   },
   "outputs": [],
   "source": [
    "input_size = len(input_cols)\n",
    "output_size = len(output_cols)"
   ]
  },
  {
   "cell_type": "markdown",
   "metadata": {
    "id": "zuYWVYcUtY4p"
   },
   "source": [
    "**Q: Complete the class definition below by filling out the constructor (`__init__`), `forward`, `training_step` and `validation_step` methods.**\n",
    "\n",
    "Hint: Think carefully about picking a good loss fuction (it's not cross entropy). Maybe try 2-3 of them and see which one works best. See https://pytorch.org/docs/stable/nn.functional.html#loss-functions"
   ]
  },
  {
   "cell_type": "code",
   "execution_count": 76,
   "metadata": {
    "id": "Dfx-mofKtY4p"
   },
   "outputs": [],
   "source": [
    "class InsuranceModel(nn.Module):\n",
    "    def __init__(self):\n",
    "        super().__init__()\n",
    "        self.linear = nn.Linear(input_size,output_size)                 # fill this (hint: use input_size & output_size defined above)\n",
    "        \n",
    "    def forward(self, xb):\n",
    "        out =self.linear(xb)                         # fill this\n",
    "        return out\n",
    "    \n",
    "    def training_step(self, batch):\n",
    "        inputs, targets = batch \n",
    "        # Generate predictions\n",
    "        out = self(inputs)          \n",
    "        # Calcuate loss\n",
    "        loss = F.l1_loss(out,targets)                          # fill this\n",
    "        return loss\n",
    "    \n",
    "    def validation_step(self, batch):\n",
    "        inputs, targets = batch\n",
    "        # Generate predictions\n",
    "        out = self(inputs)\n",
    "        # Calculate loss\n",
    "        loss = F.l1_loss(out,targets)                          #mse_loss not used because it leads to huge val_loss\n",
    "        return {'val_loss': loss.detach()}                     #and smooth_l1_loss leads to huge variation in val_loss\n",
    "        \n",
    "    def validation_epoch_end(self, outputs):\n",
    "        batch_losses = [x['val_loss'] for x in outputs]\n",
    "        epoch_loss = torch.stack(batch_losses).mean()   # Combine losses\n",
    "        return {'val_loss': epoch_loss.item()}\n",
    "    \n",
    "    def epoch_end(self, epoch, result, num_epochs):\n",
    "        # Print result every 20th epoch\n",
    "        if (epoch+1) % 20 == 0 or epoch == num_epochs-1:\n",
    "            print(\"Epoch [{}], val_loss: {:.4f}\".format(epoch+1, result['val_loss']))"
   ]
  },
  {
   "cell_type": "markdown",
   "metadata": {
    "id": "GC_deDpxtY4p"
   },
   "source": [
    "Let us create a model using the `InsuranceModel` class. You may need to come back later and re-run the next cell to reinitialize the model, in case the loss becomes `nan` or `infinity`."
   ]
  },
  {
   "cell_type": "code",
   "execution_count": 77,
   "metadata": {
    "id": "Bz4n8y1ttY4p"
   },
   "outputs": [],
   "source": [
    "model = InsuranceModel()"
   ]
  },
  {
   "cell_type": "markdown",
   "metadata": {
    "id": "TbLKUvW4tY4q"
   },
   "source": [
    "Let's check out the weights and biases of the model using `model.parameters`."
   ]
  },
  {
   "cell_type": "code",
   "execution_count": 78,
   "metadata": {
    "id": "2ES-egjztY4q"
   },
   "outputs": [
    {
     "data": {
      "text/plain": [
       "[Parameter containing:\n",
       " tensor([[0.0535, 0.0266, 0.2433, 0.2932, 0.2046, 0.0245, 0.2818]],\n",
       "        requires_grad=True),\n",
       " Parameter containing:\n",
       " tensor([-0.2711], requires_grad=True)]"
      ]
     },
     "execution_count": 78,
     "metadata": {},
     "output_type": "execute_result"
    }
   ],
   "source": [
    "list(model.parameters())"
   ]
  },
  {
   "cell_type": "markdown",
   "metadata": {
    "id": "tjs0ptfHtY4q"
   },
   "source": [
    "## Step 4: Train the model to fit the data\n",
    "\n",
    "To train our model, we'll use the same `fit` function explained in the lecture. That's the benefit of defining a generic training loop - you can use it for any problem."
   ]
  },
  {
   "cell_type": "code",
   "execution_count": 79,
   "metadata": {
    "id": "U5PGqlumtY4q"
   },
   "outputs": [],
   "source": [
    "def evaluate(model, val_loader):\n",
    "    outputs = [model.validation_step(batch) for batch in val_loader]\n",
    "    return model.validation_epoch_end(outputs)\n",
    "\n",
    "def fit(epochs, lr, model, train_loader, val_loader, opt_func=torch.optim.SGD):\n",
    "    history = []\n",
    "    optimizer = opt_func(model.parameters(), lr)\n",
    "    for epoch in range(epochs):\n",
    "        # Training Phase \n",
    "        for batch in train_loader:\n",
    "            loss = model.training_step(batch)\n",
    "            loss.backward()\n",
    "            optimizer.step()\n",
    "            optimizer.zero_grad()\n",
    "        # Validation phase\n",
    "        result = evaluate(model, val_loader)\n",
    "        model.epoch_end(epoch, result, epochs)\n",
    "        history.append(result)\n",
    "    return history"
   ]
  },
  {
   "cell_type": "markdown",
   "metadata": {
    "id": "T74NMLWstY4r"
   },
   "source": [
    "**Q: Use the `evaluate` function to calculate the loss on the validation set before training.**"
   ]
  },
  {
   "cell_type": "code",
   "execution_count": 80,
   "metadata": {
    "id": "alb1MJRntY4r"
   },
   "outputs": [
    {
     "name": "stdout",
     "output_type": "stream",
     "text": [
      "{'val_loss': 9596.75}\n"
     ]
    }
   ],
   "source": [
    "result = evaluate(model,val_loader) # Use the the evaluate function\n",
    "print(result)"
   ]
  },
  {
   "cell_type": "markdown",
   "metadata": {
    "id": "dPqdDSqxtY4r"
   },
   "source": [
    "\n",
    "We are now ready to train the model. You may need to run the training loop many times, for different number of epochs and with different learning rates, to get a good result. Also, if your loss becomes too large (or `nan`), you may have to re-initialize the model by running the cell `model = InsuranceModel()`. Experiment with this for a while, and try to get to as low a loss as possible."
   ]
  },
  {
   "cell_type": "markdown",
   "metadata": {
    "id": "HRLlIc2StY4r"
   },
   "source": [
    "**Q: Train the model 4-5 times with different learning rates & for different number of epochs.**\n",
    "\n",
    "Hint: Vary learning rates by orders of 10 (e.g. `1e-2`, `1e-3`, `1e-4`, `1e-5`, `1e-6`) to figure out what works."
   ]
  },
  {
   "cell_type": "code",
   "execution_count": 96,
   "metadata": {
    "id": "yCEh7rqdtY4r"
   },
   "outputs": [
    {
     "name": "stdout",
     "output_type": "stream",
     "text": [
      "Epoch [20], val_loss: 451757.2188\n",
      "Epoch [40], val_loss: 692461.8750\n",
      "Epoch [60], val_loss: 35533.3164\n",
      "Epoch [80], val_loss: 934690.6250\n",
      "Epoch [100], val_loss: 2507391.5000\n",
      "Epoch [120], val_loss: 525147.4375\n",
      "Epoch [140], val_loss: 1530816.5000\n",
      "Epoch [160], val_loss: 186409.0781\n",
      "Epoch [180], val_loss: 1516855.3750\n",
      "Epoch [200], val_loss: 1118339.3750\n",
      "Epoch [220], val_loss: 121680.2578\n",
      "Epoch [240], val_loss: 653580.0625\n",
      "Epoch [260], val_loss: 298259.3750\n",
      "Epoch [280], val_loss: 1692193.2500\n",
      "Epoch [300], val_loss: 1920183.7500\n",
      "Epoch [320], val_loss: 412176.0000\n",
      "Epoch [340], val_loss: 1979990.1250\n",
      "Epoch [360], val_loss: 969090.0000\n",
      "Epoch [380], val_loss: 1805816.5000\n",
      "Epoch [400], val_loss: 92688.6562\n",
      "Epoch [420], val_loss: 1297924.6250\n",
      "Epoch [440], val_loss: 760394.1875\n",
      "Epoch [460], val_loss: 1098583.2500\n",
      "Epoch [480], val_loss: 1075068.3750\n",
      "Epoch [500], val_loss: 1688735.7500\n",
      "Epoch [520], val_loss: 1112842.8750\n",
      "Epoch [540], val_loss: 791006.2500\n",
      "Epoch [560], val_loss: 688644.4375\n",
      "Epoch [580], val_loss: 752129.5625\n",
      "Epoch [600], val_loss: 1378188.7500\n",
      "Epoch [620], val_loss: 1853489.6250\n",
      "Epoch [640], val_loss: 1703749.0000\n",
      "Epoch [660], val_loss: 1152692.1250\n",
      "Epoch [680], val_loss: 89192.3203\n",
      "Epoch [700], val_loss: 206470.1250\n",
      "Epoch [720], val_loss: 1730893.0000\n",
      "Epoch [740], val_loss: 1162386.1250\n",
      "Epoch [760], val_loss: 1736434.1250\n",
      "Epoch [780], val_loss: 617171.5000\n",
      "Epoch [800], val_loss: 73815.1250\n",
      "Epoch [820], val_loss: 128138.3281\n",
      "Epoch [840], val_loss: 2069669.6250\n",
      "Epoch [860], val_loss: 1889030.2500\n",
      "Epoch [880], val_loss: 537527.1250\n",
      "Epoch [900], val_loss: 176037.7188\n",
      "Epoch [920], val_loss: 161438.9062\n",
      "Epoch [940], val_loss: 1146415.2500\n",
      "Epoch [960], val_loss: 694932.7500\n",
      "Epoch [980], val_loss: 133967.2344\n",
      "Epoch [1000], val_loss: 944374.0625\n"
     ]
    }
   ],
   "source": [
    "epochs = 1000\n",
    "lr = 1e-2\n",
    "history1 = fit(epochs, lr, model, train_loader, val_loader)"
   ]
  },
  {
   "cell_type": "code",
   "execution_count": 82,
   "metadata": {
    "id": "3z5eKvnUtY4r"
   },
   "outputs": [
    {
     "name": "stdout",
     "output_type": "stream",
     "text": [
      "Epoch [20], val_loss: 161496.8750\n",
      "Epoch [40], val_loss: 122564.4531\n",
      "Epoch [60], val_loss: 123330.9141\n",
      "Epoch [80], val_loss: 137922.7969\n",
      "Epoch [100], val_loss: 68646.1406\n",
      "Epoch [120], val_loss: 80896.6797\n",
      "Epoch [140], val_loss: 188141.6250\n",
      "Epoch [160], val_loss: 60714.2422\n",
      "Epoch [180], val_loss: 75189.4453\n",
      "Epoch [200], val_loss: 159332.2031\n",
      "Epoch [220], val_loss: 169829.3281\n",
      "Epoch [240], val_loss: 34208.0820\n",
      "Epoch [260], val_loss: 172309.7969\n",
      "Epoch [280], val_loss: 67505.6641\n",
      "Epoch [300], val_loss: 125681.9531\n",
      "Epoch [320], val_loss: 99211.3047\n",
      "Epoch [340], val_loss: 104870.2812\n",
      "Epoch [360], val_loss: 201917.2656\n",
      "Epoch [380], val_loss: 80197.1250\n",
      "Epoch [400], val_loss: 150202.0938\n",
      "Epoch [420], val_loss: 121857.6406\n",
      "Epoch [440], val_loss: 128832.2109\n",
      "Epoch [460], val_loss: 189564.4219\n",
      "Epoch [480], val_loss: 201154.2969\n",
      "Epoch [500], val_loss: 102169.7891\n",
      "Epoch [520], val_loss: 76907.0781\n",
      "Epoch [540], val_loss: 70679.4062\n",
      "Epoch [560], val_loss: 65434.7461\n",
      "Epoch [580], val_loss: 35048.2695\n",
      "Epoch [600], val_loss: 38106.0625\n",
      "Epoch [620], val_loss: 4687.3916\n",
      "Epoch [640], val_loss: 19748.7559\n",
      "Epoch [660], val_loss: 170927.1875\n",
      "Epoch [680], val_loss: 235134.2031\n",
      "Epoch [700], val_loss: 215103.2969\n",
      "Epoch [720], val_loss: 118371.7109\n",
      "Epoch [740], val_loss: 168717.4062\n",
      "Epoch [760], val_loss: 18193.5918\n",
      "Epoch [780], val_loss: 95609.8125\n",
      "Epoch [800], val_loss: 115158.5078\n",
      "Epoch [820], val_loss: 147237.3594\n",
      "Epoch [840], val_loss: 1759.9395\n",
      "Epoch [860], val_loss: 52351.1602\n",
      "Epoch [880], val_loss: 95548.7734\n",
      "Epoch [900], val_loss: 210330.2812\n",
      "Epoch [920], val_loss: 18652.9922\n",
      "Epoch [940], val_loss: 194915.7031\n",
      "Epoch [960], val_loss: 177146.2969\n",
      "Epoch [980], val_loss: 140582.0781\n",
      "Epoch [1000], val_loss: 228216.9062\n"
     ]
    }
   ],
   "source": [
    "epochs = 1000\n",
    "lr = 1e-3\n",
    "history2 = fit(epochs, lr, model, train_loader, val_loader)"
   ]
  },
  {
   "cell_type": "code",
   "execution_count": 83,
   "metadata": {
    "id": "kwlKu1OYtY4r"
   },
   "outputs": [
    {
     "name": "stdout",
     "output_type": "stream",
     "text": [
      "Epoch [20], val_loss: 5067.7017\n",
      "Epoch [40], val_loss: 13245.2783\n",
      "Epoch [60], val_loss: 5588.4517\n",
      "Epoch [80], val_loss: 14091.1797\n",
      "Epoch [100], val_loss: 6693.6255\n",
      "Epoch [120], val_loss: 4769.0259\n",
      "Epoch [140], val_loss: 15696.7158\n",
      "Epoch [160], val_loss: 6947.6694\n",
      "Epoch [180], val_loss: 17603.9688\n",
      "Epoch [200], val_loss: 8233.2393\n",
      "Epoch [220], val_loss: 14290.6289\n",
      "Epoch [240], val_loss: 165.2945\n",
      "Epoch [260], val_loss: 4801.3652\n",
      "Epoch [280], val_loss: 11671.8242\n",
      "Epoch [300], val_loss: 9506.6104\n",
      "Epoch [320], val_loss: 4966.2500\n",
      "Epoch [340], val_loss: 17765.6504\n",
      "Epoch [360], val_loss: 2477.3176\n",
      "Epoch [380], val_loss: 9233.9551\n",
      "Epoch [400], val_loss: 2965.7266\n",
      "Epoch [420], val_loss: 5332.9849\n",
      "Epoch [440], val_loss: 12959.3799\n",
      "Epoch [460], val_loss: 12459.6289\n",
      "Epoch [480], val_loss: 18208.2285\n",
      "Epoch [500], val_loss: 2851.0957\n",
      "Epoch [520], val_loss: 21576.6973\n",
      "Epoch [540], val_loss: 15494.9746\n",
      "Epoch [560], val_loss: 2540.0122\n",
      "Epoch [580], val_loss: 9356.7969\n",
      "Epoch [600], val_loss: 2631.7349\n",
      "Epoch [620], val_loss: 7703.0845\n",
      "Epoch [640], val_loss: 11005.3955\n",
      "Epoch [660], val_loss: 20377.7910\n",
      "Epoch [680], val_loss: 1487.4755\n",
      "Epoch [700], val_loss: 5339.7681\n",
      "Epoch [720], val_loss: 990.0233\n",
      "Epoch [740], val_loss: 15302.7900\n",
      "Epoch [760], val_loss: 5093.9863\n",
      "Epoch [780], val_loss: 6074.8159\n",
      "Epoch [800], val_loss: 18414.8184\n",
      "Epoch [820], val_loss: 16309.3105\n",
      "Epoch [840], val_loss: 21855.2109\n",
      "Epoch [860], val_loss: 16570.8965\n",
      "Epoch [880], val_loss: 17299.0098\n",
      "Epoch [900], val_loss: 7641.2793\n",
      "Epoch [920], val_loss: 14972.1445\n",
      "Epoch [940], val_loss: 7547.3013\n",
      "Epoch [960], val_loss: 3417.5964\n",
      "Epoch [980], val_loss: 10531.0303\n",
      "Epoch [1000], val_loss: 24714.4512\n"
     ]
    }
   ],
   "source": [
    "epochs = 1000\n",
    "lr = 1e-4\n",
    "history3 = fit(epochs, lr, model, train_loader, val_loader)"
   ]
  },
  {
   "cell_type": "code",
   "execution_count": 84,
   "metadata": {
    "id": "B9WjxgtYtY4s"
   },
   "outputs": [
    {
     "name": "stdout",
     "output_type": "stream",
     "text": [
      "Epoch [20], val_loss: 1016.0431\n",
      "Epoch [40], val_loss: 1483.2618\n",
      "Epoch [60], val_loss: 1358.5853\n",
      "Epoch [80], val_loss: 1523.5822\n",
      "Epoch [100], val_loss: 486.0750\n",
      "Epoch [120], val_loss: 528.8635\n",
      "Epoch [140], val_loss: 636.7278\n",
      "Epoch [160], val_loss: 410.8029\n",
      "Epoch [180], val_loss: 1365.8571\n",
      "Epoch [200], val_loss: 1899.4358\n",
      "Epoch [220], val_loss: 75.2975\n",
      "Epoch [240], val_loss: 2133.0437\n",
      "Epoch [260], val_loss: 527.7023\n",
      "Epoch [280], val_loss: 1282.5536\n",
      "Epoch [300], val_loss: 2186.2229\n",
      "Epoch [320], val_loss: 970.5801\n",
      "Epoch [340], val_loss: 646.9608\n",
      "Epoch [360], val_loss: 1276.4679\n",
      "Epoch [380], val_loss: 1526.0782\n",
      "Epoch [400], val_loss: 1055.2546\n",
      "Epoch [420], val_loss: 608.8531\n",
      "Epoch [440], val_loss: 2701.4539\n",
      "Epoch [460], val_loss: 768.1093\n",
      "Epoch [480], val_loss: 763.8523\n",
      "Epoch [500], val_loss: 2083.6360\n",
      "Epoch [520], val_loss: 1324.4589\n",
      "Epoch [540], val_loss: 1680.8246\n",
      "Epoch [560], val_loss: 86.5140\n",
      "Epoch [580], val_loss: 1821.8994\n",
      "Epoch [600], val_loss: 1110.0668\n",
      "Epoch [620], val_loss: 1503.6384\n",
      "Epoch [640], val_loss: 1540.3274\n",
      "Epoch [660], val_loss: 322.1771\n",
      "Epoch [680], val_loss: 743.6333\n",
      "Epoch [700], val_loss: 301.0924\n",
      "Epoch [720], val_loss: 198.9534\n",
      "Epoch [740], val_loss: 1840.6426\n",
      "Epoch [760], val_loss: 1553.3770\n",
      "Epoch [780], val_loss: 930.0250\n",
      "Epoch [800], val_loss: 186.4064\n",
      "Epoch [820], val_loss: 1908.0430\n",
      "Epoch [840], val_loss: 1644.1835\n",
      "Epoch [860], val_loss: 1442.4434\n",
      "Epoch [880], val_loss: 1252.0555\n",
      "Epoch [900], val_loss: 186.2331\n",
      "Epoch [920], val_loss: 386.0021\n",
      "Epoch [940], val_loss: 1305.2689\n",
      "Epoch [960], val_loss: 715.4654\n",
      "Epoch [980], val_loss: 1927.9429\n",
      "Epoch [1000], val_loss: 519.0757\n"
     ]
    }
   ],
   "source": [
    "epochs = 1000\n",
    "lr = 1e-5\n",
    "history4 = fit(epochs, lr, model, train_loader, val_loader)"
   ]
  },
  {
   "cell_type": "code",
   "execution_count": 85,
   "metadata": {
    "id": "0R-1nb2AtY4s"
   },
   "outputs": [
    {
     "name": "stdout",
     "output_type": "stream",
     "text": [
      "Epoch [20], val_loss: 159.4716\n",
      "Epoch [40], val_loss: 143.2305\n",
      "Epoch [60], val_loss: 91.6586\n",
      "Epoch [80], val_loss: 74.6564\n",
      "Epoch [100], val_loss: 72.9304\n",
      "Epoch [120], val_loss: 81.8467\n",
      "Epoch [140], val_loss: 151.6670\n",
      "Epoch [160], val_loss: 75.2665\n",
      "Epoch [180], val_loss: 125.7093\n",
      "Epoch [200], val_loss: 73.2671\n",
      "Epoch [220], val_loss: 74.5073\n",
      "Epoch [240], val_loss: 75.1490\n",
      "Epoch [260], val_loss: 220.6978\n",
      "Epoch [280], val_loss: 131.8979\n",
      "Epoch [300], val_loss: 85.5043\n",
      "Epoch [320], val_loss: 92.8311\n",
      "Epoch [340], val_loss: 202.8619\n",
      "Epoch [360], val_loss: 142.2441\n",
      "Epoch [380], val_loss: 100.9710\n",
      "Epoch [400], val_loss: 88.8676\n",
      "Epoch [420], val_loss: 179.2268\n",
      "Epoch [440], val_loss: 93.6567\n",
      "Epoch [460], val_loss: 75.2029\n",
      "Epoch [480], val_loss: 76.7317\n",
      "Epoch [500], val_loss: 73.8244\n",
      "Epoch [520], val_loss: 100.0917\n",
      "Epoch [540], val_loss: 76.1879\n",
      "Epoch [560], val_loss: 195.2149\n",
      "Epoch [580], val_loss: 73.8404\n",
      "Epoch [600], val_loss: 74.0240\n",
      "Epoch [620], val_loss: 74.6298\n",
      "Epoch [640], val_loss: 149.2488\n",
      "Epoch [660], val_loss: 160.1578\n",
      "Epoch [680], val_loss: 80.2307\n",
      "Epoch [700], val_loss: 71.7184\n",
      "Epoch [720], val_loss: 75.3653\n",
      "Epoch [740], val_loss: 182.0778\n",
      "Epoch [760], val_loss: 80.2135\n",
      "Epoch [780], val_loss: 72.4048\n",
      "Epoch [800], val_loss: 72.7150\n",
      "Epoch [820], val_loss: 85.9335\n",
      "Epoch [840], val_loss: 74.9459\n",
      "Epoch [860], val_loss: 76.6363\n",
      "Epoch [880], val_loss: 71.4769\n",
      "Epoch [900], val_loss: 71.3696\n",
      "Epoch [920], val_loss: 119.0900\n",
      "Epoch [940], val_loss: 173.8614\n",
      "Epoch [960], val_loss: 135.0967\n",
      "Epoch [980], val_loss: 73.4571\n",
      "Epoch [1000], val_loss: 140.9371\n"
     ]
    }
   ],
   "source": [
    "epochs = 1000\n",
    "lr = 1e-6\n",
    "history5 = fit(epochs, lr, model, train_loader, val_loader)"
   ]
  },
  {
   "cell_type": "markdown",
   "metadata": {
    "id": "NOiOfz_CtY4s"
   },
   "source": [
    "**Q: What is the final validation loss of your model?**"
   ]
  },
  {
   "cell_type": "code",
   "execution_count": 86,
   "metadata": {
    "id": "2J0nqWmXtY4s"
   },
   "outputs": [],
   "source": [
    "val_loss = 140.9371         #min val_loss attained obtained from above"
   ]
  },
  {
   "cell_type": "markdown",
   "metadata": {
    "id": "knE_XQ9_tY4s"
   },
   "source": [
    "Let's log the final validation loss to Jovian and commit the notebook"
   ]
  },
  {
   "cell_type": "code",
   "execution_count": 87,
   "metadata": {
    "id": "ghbFvRD5tY4s"
   },
   "outputs": [],
   "source": [
    "#jovian.log_metrics(val_loss=val_loss )"
   ]
  },
  {
   "cell_type": "code",
   "execution_count": 88,
   "metadata": {
    "id": "SNXJ5Xj9tY4s"
   },
   "outputs": [],
   "source": [
    "#*jovian.commit(project=project_name, environment=None)"
   ]
  },
  {
   "cell_type": "markdown",
   "metadata": {
    "id": "zUIHcuHPtY4t"
   },
   "source": [
    "Now scroll back up, re-initialize the model, and try different set of values for batch size, number of epochs, learning rate etc. Commit each experiment and use the \"Compare\" and \"View Diff\" options on Jovian to compare the different results."
   ]
  },
  {
   "cell_type": "markdown",
   "metadata": {
    "id": "Rg0N7L4otY4t"
   },
   "source": [
    "## Step 5: Make predictions using the trained model\n",
    "\n",
    "**Q: Complete the following function definition to make predictions on a single input**"
   ]
  },
  {
   "cell_type": "code",
   "execution_count": 89,
   "metadata": {
    "id": "Nh0cPeH_tY4t"
   },
   "outputs": [],
   "source": [
    "def predict_single(input, target, model):\n",
    "    inputs = input.unsqueeze(0)\n",
    "    predictions = model(inputs)             # fill this\n",
    "    prediction = predictions[0].detach()\n",
    "    print(\"Input:\", input)\n",
    "    print(\"Target:\", target)\n",
    "    print(\"Prediction:\", prediction)"
   ]
  },
  {
   "cell_type": "code",
   "execution_count": 90,
   "metadata": {
    "id": "w6r8p1EXtY4t"
   },
   "outputs": [
    {
     "name": "stdout",
     "output_type": "stream",
     "text": [
      "Input: tensor([3.1000e+01, 1.0000e+00, 2.5157e+01, 1.0000e+00, 0.0000e+00, 1.0000e+00,\n",
      "        4.8759e+03])\n",
      "Target: tensor([4875.8765])\n",
      "Prediction: tensor([4865.7705])\n"
     ]
    }
   ],
   "source": [
    "input, target = val_ds[0]\n",
    "predict_single(input, target, model)"
   ]
  },
  {
   "cell_type": "code",
   "execution_count": 91,
   "metadata": {
    "id": "N2-6rb-AtY4t"
   },
   "outputs": [
    {
     "name": "stdout",
     "output_type": "stream",
     "text": [
      "Input: tensor([  19.0000,    0.0000,   19.9820,    0.0000,    0.0000,    3.0000,\n",
      "        1991.4286])\n",
      "Target: tensor([1991.4286])\n",
      "Prediction: tensor([1959.1333])\n"
     ]
    }
   ],
   "source": [
    "input, target = val_ds[10]\n",
    "predict_single(input, target, model)"
   ]
  },
  {
   "cell_type": "code",
   "execution_count": 92,
   "metadata": {
    "id": "wB7AAYsztY4t"
   },
   "outputs": [
    {
     "name": "stdout",
     "output_type": "stream",
     "text": [
      "Input: tensor([5.3000e+01, 1.0000e+00, 2.3590e+01, 0.0000e+00, 0.0000e+00, 1.0000e+00,\n",
      "        1.1343e+04])\n",
      "Target: tensor([11342.9922])\n",
      "Prediction: tensor([11411.9717])\n"
     ]
    }
   ],
   "source": [
    "input, target = val_ds[23]\n",
    "predict_single(input, target, model)"
   ]
  },
  {
   "cell_type": "markdown",
   "metadata": {
    "id": "rkNJkp6vtY4t"
   },
   "source": [
    "Are you happy with your model's predictions? Try to improve them further."
   ]
  },
  {
   "cell_type": "markdown",
   "metadata": {
    "id": "r-rRMETTtY4u"
   },
   "source": [
    "## (Optional) Step 6: Try another dataset & blog about it\n",
    "\n",
    "While this last step is optional for the submission of your assignment, we highly recommend that you do it. Try to replicate this notebook for a different linear regression or logistic regression problem. This will help solidify your understanding, and give you a chance to differentiate the generic patterns in machine learning from problem-specific details.You can use one of these starer notebooks (just change the dataset):\n",
    "\n",
    "- Linear regression (minimal): https://jovian.ai/aakashns/housing-linear-minimal\n",
    "- Logistic regression (minimal): https://jovian.ai/aakashns/mnist-logistic-minimal\n",
    "\n",
    "Here are some sources to find good datasets:\n",
    "\n",
    "- https://lionbridge.ai/datasets/10-open-datasets-for-linear-regression/\n",
    "- https://www.kaggle.com/rtatman/datasets-for-regression-analysis\n",
    "- https://archive.ics.uci.edu/ml/datasets.php?format=&task=reg&att=&area=&numAtt=&numIns=&type=&sort=nameUp&view=table\n",
    "- https://people.sc.fsu.edu/~jburkardt/datasets/regression/regression.html\n",
    "- https://archive.ics.uci.edu/ml/datasets/wine+quality\n",
    "- https://pytorch.org/docs/stable/torchvision/datasets.html\n",
    "\n",
    "We also recommend that you write a blog about your approach to the problem. Here is a suggested structure for your post (feel free to experiment with it):\n",
    "\n",
    "- Interesting title & subtitle\n",
    "- Overview of what the blog covers (which dataset, linear regression or logistic regression, intro to PyTorch)\n",
    "- Downloading & exploring the data\n",
    "- Preparing the data for training\n",
    "- Creating a model using PyTorch\n",
    "- Training the model to fit the data\n",
    "- Your thoughts on how to experiment with different hyperparmeters to reduce loss\n",
    "- Making predictions using the model\n",
    "\n",
    "As with the previous assignment, you can [embed Juptyer notebook cells & outputs from Jovian](https://medium.com/jovianml/share-and-embed-jupyter-notebooks-online-with-jovian-ml-df709a03064e) into your blog. \n",
    "\n",
    "Don't forget to share your work on the forum: https://jovian.ai/forum/t/linear-regression-and-logistic-regression-notebooks-and-blog-posts/14039"
   ]
  },
  {
   "cell_type": "code",
   "execution_count": null,
   "metadata": {
    "id": "TqIBCBj4tY4u"
   },
   "outputs": [],
   "source": []
  },
  {
   "cell_type": "code",
   "execution_count": null,
   "metadata": {},
   "outputs": [],
   "source": []
  },
  {
   "cell_type": "code",
   "execution_count": null,
   "metadata": {},
   "outputs": [],
   "source": []
  },
  {
   "cell_type": "code",
   "execution_count": null,
   "metadata": {},
   "outputs": [],
   "source": []
  },
  {
   "cell_type": "code",
   "execution_count": null,
   "metadata": {},
   "outputs": [],
   "source": []
  }
 ],
 "metadata": {
  "colab": {
   "name": "02-insurance-linear.ipynb",
   "provenance": []
  },
  "kernelspec": {
   "display_name": "Python 3",
   "language": "python",
   "name": "python3"
  },
  "language_info": {
   "codemirror_mode": {
    "name": "ipython",
    "version": 3
   },
   "file_extension": ".py",
   "mimetype": "text/x-python",
   "name": "python",
   "nbconvert_exporter": "python",
   "pygments_lexer": "ipython3",
   "version": "3.9.1"
  }
 },
 "nbformat": 4,
 "nbformat_minor": 1
}
